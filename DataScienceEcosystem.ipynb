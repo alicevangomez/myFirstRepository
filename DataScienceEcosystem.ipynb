{
 "cells": [
  {
   "cell_type": "markdown",
   "id": "50226924-53f6-4e63-95f1-08e8e494270e",
   "metadata": {},
   "source": [
    "# Data Science Tools and Ecosystem"
   ]
  },
  {
   "cell_type": "markdown",
   "id": "af606ed8-732c-4a7b-8720-00322daa97dc",
   "metadata": {},
   "source": []
  },
  {
   "cell_type": "markdown",
   "id": "346a99ed-556f-4ace-802b-3692dcd328fb",
   "metadata": {},
   "source": [
    "In this notebook, Data Science Tools and Ecosystem are summarized."
   ]
  },
  {
   "cell_type": "markdown",
   "id": "e59e20fa-ca16-4ae6-a520-bcb34f97d13f",
   "metadata": {},
   "source": [
    "**Objectives:**\n",
    "- List popular languages for Data Science\n",
    "- Libraries most used for Data Science\n",
    "- Data Science Tools"
   ]
  },
  {
   "cell_type": "markdown",
   "id": "3f097291-f569-464c-9ea0-253b38ca124b",
   "metadata": {},
   "source": [
    "Some of the popular languages that Data Scientists use are:\n",
    "1. Python\n",
    "2. R"
   ]
  },
  {
   "cell_type": "markdown",
   "id": "0470c5f2-a58a-4cf2-8582-838c46b0e603",
   "metadata": {},
   "source": [
    "Some of the commonly used libraries used by Data Scientists include:\n",
    "1. R libraries: dplyr, ggplot, caret\n",
    "2. Python libraries: Pandas, NumPy, Seaborn, Matplotlib"
   ]
  },
  {
   "cell_type": "markdown",
   "id": "bb28f7db-f1b1-4f71-bcef-a21aa276931f",
   "metadata": {},
   "source": [
    "|Data Science Tools|\n",
    "|------------------|\n",
    "|JupyterLite|\n",
    "|R Studio|"
   ]
  },
  {
   "cell_type": "markdown",
   "id": "3a24b357-6291-4ae4-b4f4-9d003c5944ee",
   "metadata": {},
   "source": [
    "Below are a few examples of evaluating arithmetic expressions in Python"
   ]
  },
  {
   "cell_type": "code",
   "execution_count": 2,
   "id": "07e3ca92-2d98-4cc6-9260-4bc04d44d3cf",
   "metadata": {},
   "outputs": [
    {
     "data": {
      "text/plain": [
       "17"
      ]
     },
     "execution_count": 2,
     "metadata": {},
     "output_type": "execute_result"
    }
   ],
   "source": [
    "(3*4)+5"
   ]
  },
  {
   "cell_type": "markdown",
   "id": "81edf243-806d-4866-9416-651a64b0deae",
   "metadata": {},
   "source": [
    "This a simple arithmetic expression to mutiply then add integers"
   ]
  },
  {
   "cell_type": "code",
   "execution_count": 3,
   "id": "25edc555-d190-43d6-b5d8-3116fc7cd3b7",
   "metadata": {},
   "outputs": [
    {
     "data": {
      "text/plain": [
       "3.3333333333333335"
      ]
     },
     "execution_count": 3,
     "metadata": {},
     "output_type": "execute_result"
    }
   ],
   "source": [
    "200/60"
   ]
  },
  {
   "cell_type": "markdown",
   "id": "9e89166e-d5b7-4711-9a2a-ad3c79de6a25",
   "metadata": {},
   "source": [
    "This will convert 200 minutes to hours by diving by 60"
   ]
  },
  {
   "cell_type": "markdown",
   "id": "f50c71c1-5d1b-4c2b-a1c6-e72289cb12a0",
   "metadata": {},
   "source": [
    "## Author \n",
    "*Alice Gómez*"
   ]
  }
 ],
 "metadata": {
  "kernelspec": {
   "display_name": "Python 3 (ipykernel)",
   "language": "python",
   "name": "python3"
  },
  "language_info": {
   "codemirror_mode": {
    "name": "ipython",
    "version": 3
   },
   "file_extension": ".py",
   "mimetype": "text/x-python",
   "name": "python",
   "nbconvert_exporter": "python",
   "pygments_lexer": "ipython3",
   "version": "3.12.8"
  }
 },
 "nbformat": 4,
 "nbformat_minor": 5
}
